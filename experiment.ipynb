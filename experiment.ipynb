{
 "cells": [
  {
   "cell_type": "code",
   "execution_count": 14,
   "metadata": {},
   "outputs": [
    {
     "ename": "ParserError",
     "evalue": "Error tokenizing data. C error: Expected 1 fields in line 4, saw 2\n",
     "output_type": "error",
     "traceback": [
      "\u001b[1;31m---------------------------------------------------------------------------\u001b[0m",
      "\u001b[1;31mParserError\u001b[0m                               Traceback (most recent call last)",
      "Cell \u001b[1;32mIn[14], line 3\u001b[0m\n\u001b[0;32m      1\u001b[0m \u001b[38;5;28;01mimport\u001b[39;00m \u001b[38;5;21;01mpandas\u001b[39;00m \u001b[38;5;28;01mas\u001b[39;00m \u001b[38;5;21;01mpd\u001b[39;00m\n\u001b[1;32m----> 3\u001b[0m df1 \u001b[38;5;241m=\u001b[39m \u001b[43mpd\u001b[49m\u001b[38;5;241;43m.\u001b[39;49m\u001b[43mread_csv\u001b[49m\u001b[43m(\u001b[49m\u001b[38;5;124;43mr\u001b[39;49m\u001b[38;5;124;43m\"\u001b[39;49m\u001b[38;5;124;43mD:/adv-project-1/berlingeoheatmap_project1/Ladesaeulenregister.csv\u001b[39;49m\u001b[38;5;124;43m\"\u001b[39;49m\u001b[43m)\u001b[49m\n",
      "File \u001b[1;32md:\\adv-project-1\\geo\\Lib\\site-packages\\pandas\\io\\parsers\\readers.py:1026\u001b[0m, in \u001b[0;36mread_csv\u001b[1;34m(filepath_or_buffer, sep, delimiter, header, names, index_col, usecols, dtype, engine, converters, true_values, false_values, skipinitialspace, skiprows, skipfooter, nrows, na_values, keep_default_na, na_filter, verbose, skip_blank_lines, parse_dates, infer_datetime_format, keep_date_col, date_parser, date_format, dayfirst, cache_dates, iterator, chunksize, compression, thousands, decimal, lineterminator, quotechar, quoting, doublequote, escapechar, comment, encoding, encoding_errors, dialect, on_bad_lines, delim_whitespace, low_memory, memory_map, float_precision, storage_options, dtype_backend)\u001b[0m\n\u001b[0;32m   1013\u001b[0m kwds_defaults \u001b[38;5;241m=\u001b[39m _refine_defaults_read(\n\u001b[0;32m   1014\u001b[0m     dialect,\n\u001b[0;32m   1015\u001b[0m     delimiter,\n\u001b[1;32m   (...)\u001b[0m\n\u001b[0;32m   1022\u001b[0m     dtype_backend\u001b[38;5;241m=\u001b[39mdtype_backend,\n\u001b[0;32m   1023\u001b[0m )\n\u001b[0;32m   1024\u001b[0m kwds\u001b[38;5;241m.\u001b[39mupdate(kwds_defaults)\n\u001b[1;32m-> 1026\u001b[0m \u001b[38;5;28;01mreturn\u001b[39;00m \u001b[43m_read\u001b[49m\u001b[43m(\u001b[49m\u001b[43mfilepath_or_buffer\u001b[49m\u001b[43m,\u001b[49m\u001b[43m \u001b[49m\u001b[43mkwds\u001b[49m\u001b[43m)\u001b[49m\n",
      "File \u001b[1;32md:\\adv-project-1\\geo\\Lib\\site-packages\\pandas\\io\\parsers\\readers.py:626\u001b[0m, in \u001b[0;36m_read\u001b[1;34m(filepath_or_buffer, kwds)\u001b[0m\n\u001b[0;32m    623\u001b[0m     \u001b[38;5;28;01mreturn\u001b[39;00m parser\n\u001b[0;32m    625\u001b[0m \u001b[38;5;28;01mwith\u001b[39;00m parser:\n\u001b[1;32m--> 626\u001b[0m     \u001b[38;5;28;01mreturn\u001b[39;00m \u001b[43mparser\u001b[49m\u001b[38;5;241;43m.\u001b[39;49m\u001b[43mread\u001b[49m\u001b[43m(\u001b[49m\u001b[43mnrows\u001b[49m\u001b[43m)\u001b[49m\n",
      "File \u001b[1;32md:\\adv-project-1\\geo\\Lib\\site-packages\\pandas\\io\\parsers\\readers.py:1923\u001b[0m, in \u001b[0;36mTextFileReader.read\u001b[1;34m(self, nrows)\u001b[0m\n\u001b[0;32m   1916\u001b[0m nrows \u001b[38;5;241m=\u001b[39m validate_integer(\u001b[38;5;124m\"\u001b[39m\u001b[38;5;124mnrows\u001b[39m\u001b[38;5;124m\"\u001b[39m, nrows)\n\u001b[0;32m   1917\u001b[0m \u001b[38;5;28;01mtry\u001b[39;00m:\n\u001b[0;32m   1918\u001b[0m     \u001b[38;5;66;03m# error: \"ParserBase\" has no attribute \"read\"\u001b[39;00m\n\u001b[0;32m   1919\u001b[0m     (\n\u001b[0;32m   1920\u001b[0m         index,\n\u001b[0;32m   1921\u001b[0m         columns,\n\u001b[0;32m   1922\u001b[0m         col_dict,\n\u001b[1;32m-> 1923\u001b[0m     ) \u001b[38;5;241m=\u001b[39m \u001b[38;5;28;43mself\u001b[39;49m\u001b[38;5;241;43m.\u001b[39;49m\u001b[43m_engine\u001b[49m\u001b[38;5;241;43m.\u001b[39;49m\u001b[43mread\u001b[49m\u001b[43m(\u001b[49m\u001b[43m  \u001b[49m\u001b[38;5;66;43;03m# type: ignore[attr-defined]\u001b[39;49;00m\n\u001b[0;32m   1924\u001b[0m \u001b[43m        \u001b[49m\u001b[43mnrows\u001b[49m\n\u001b[0;32m   1925\u001b[0m \u001b[43m    \u001b[49m\u001b[43m)\u001b[49m\n\u001b[0;32m   1926\u001b[0m \u001b[38;5;28;01mexcept\u001b[39;00m \u001b[38;5;167;01mException\u001b[39;00m:\n\u001b[0;32m   1927\u001b[0m     \u001b[38;5;28mself\u001b[39m\u001b[38;5;241m.\u001b[39mclose()\n",
      "File \u001b[1;32md:\\adv-project-1\\geo\\Lib\\site-packages\\pandas\\io\\parsers\\c_parser_wrapper.py:234\u001b[0m, in \u001b[0;36mCParserWrapper.read\u001b[1;34m(self, nrows)\u001b[0m\n\u001b[0;32m    232\u001b[0m \u001b[38;5;28;01mtry\u001b[39;00m:\n\u001b[0;32m    233\u001b[0m     \u001b[38;5;28;01mif\u001b[39;00m \u001b[38;5;28mself\u001b[39m\u001b[38;5;241m.\u001b[39mlow_memory:\n\u001b[1;32m--> 234\u001b[0m         chunks \u001b[38;5;241m=\u001b[39m \u001b[38;5;28;43mself\u001b[39;49m\u001b[38;5;241;43m.\u001b[39;49m\u001b[43m_reader\u001b[49m\u001b[38;5;241;43m.\u001b[39;49m\u001b[43mread_low_memory\u001b[49m\u001b[43m(\u001b[49m\u001b[43mnrows\u001b[49m\u001b[43m)\u001b[49m\n\u001b[0;32m    235\u001b[0m         \u001b[38;5;66;03m# destructive to chunks\u001b[39;00m\n\u001b[0;32m    236\u001b[0m         data \u001b[38;5;241m=\u001b[39m _concatenate_chunks(chunks)\n",
      "File \u001b[1;32mparsers.pyx:838\u001b[0m, in \u001b[0;36mpandas._libs.parsers.TextReader.read_low_memory\u001b[1;34m()\u001b[0m\n",
      "File \u001b[1;32mparsers.pyx:905\u001b[0m, in \u001b[0;36mpandas._libs.parsers.TextReader._read_rows\u001b[1;34m()\u001b[0m\n",
      "File \u001b[1;32mparsers.pyx:874\u001b[0m, in \u001b[0;36mpandas._libs.parsers.TextReader._tokenize_rows\u001b[1;34m()\u001b[0m\n",
      "File \u001b[1;32mparsers.pyx:891\u001b[0m, in \u001b[0;36mpandas._libs.parsers.TextReader._check_tokenize_status\u001b[1;34m()\u001b[0m\n",
      "File \u001b[1;32mparsers.pyx:2061\u001b[0m, in \u001b[0;36mpandas._libs.parsers.raise_parser_error\u001b[1;34m()\u001b[0m\n",
      "\u001b[1;31mParserError\u001b[0m: Error tokenizing data. C error: Expected 1 fields in line 4, saw 2\n"
     ]
    }
   ],
   "source": [
    "import pandas as pd\n",
    "\n",
    "df1 = pd.read_csv(r\"D:/adv-project-1/berlingeoheatmap_project1/Ladesaeulenregister.csv\")"
   ]
  },
  {
   "cell_type": "code",
   "execution_count": 5,
   "metadata": {},
   "outputs": [
    {
     "name": "stdout",
     "output_type": "stream",
     "text": [
      "Collecting pandas\n",
      "  Downloading pandas-2.2.3-cp311-cp311-win_amd64.whl.metadata (19 kB)\n",
      "Collecting numpy>=1.23.2 (from pandas)\n",
      "  Downloading numpy-2.1.3-cp311-cp311-win_amd64.whl.metadata (60 kB)\n",
      "     ---------------------------------------- 0.0/60.8 kB ? eta -:--:--\n",
      "     ------ --------------------------------- 10.2/60.8 kB ? eta -:--:--\n",
      "     ------------------------- ------------ 41.0/60.8 kB 991.0 kB/s eta 0:00:01\n",
      "     ------------------------- ------------ 41.0/60.8 kB 991.0 kB/s eta 0:00:01\n",
      "     ------------------------- ------------ 41.0/60.8 kB 991.0 kB/s eta 0:00:01\n",
      "     ------------------------- ------------ 41.0/60.8 kB 991.0 kB/s eta 0:00:01\n",
      "     ------------------------- ------------ 41.0/60.8 kB 991.0 kB/s eta 0:00:01\n",
      "     ------------------------------- ------ 51.2/60.8 kB 145.8 kB/s eta 0:00:01\n",
      "     -------------------------------------- 60.8/60.8 kB 170.4 kB/s eta 0:00:00\n",
      "Requirement already satisfied: python-dateutil>=2.8.2 in d:\\adv-project-1\\geo\\lib\\site-packages (from pandas) (2.9.0.post0)\n",
      "Collecting pytz>=2020.1 (from pandas)\n",
      "  Downloading pytz-2024.2-py2.py3-none-any.whl.metadata (22 kB)\n",
      "Collecting tzdata>=2022.7 (from pandas)\n",
      "  Downloading tzdata-2024.2-py2.py3-none-any.whl.metadata (1.4 kB)\n",
      "Requirement already satisfied: six>=1.5 in d:\\adv-project-1\\geo\\lib\\site-packages (from python-dateutil>=2.8.2->pandas) (1.16.0)\n",
      "Downloading pandas-2.2.3-cp311-cp311-win_amd64.whl (11.6 MB)\n",
      "   ---------------------------------------- 0.0/11.6 MB ? eta -:--:--\n",
      "   - -------------------------------------- 0.5/11.6 MB 9.4 MB/s eta 0:00:02\n",
      "   -- ------------------------------------- 0.9/11.6 MB 9.2 MB/s eta 0:00:02\n",
      "   ----- ---------------------------------- 1.7/11.6 MB 10.5 MB/s eta 0:00:01\n",
      "   ------- -------------------------------- 2.2/11.6 MB 10.7 MB/s eta 0:00:01\n",
      "   --------- ------------------------------ 2.6/11.6 MB 10.4 MB/s eta 0:00:01\n",
      "   ---------- ----------------------------- 3.2/11.6 MB 11.2 MB/s eta 0:00:01\n",
      "   ----------- ---------------------------- 3.4/11.6 MB 10.2 MB/s eta 0:00:01\n",
      "   -------------- ------------------------- 4.1/11.6 MB 11.0 MB/s eta 0:00:01\n",
      "   ---------------- ----------------------- 4.7/11.6 MB 11.0 MB/s eta 0:00:01\n",
      "   ----------------- ---------------------- 5.1/11.6 MB 10.9 MB/s eta 0:00:01\n",
      "   ------------------- -------------------- 5.6/11.6 MB 11.2 MB/s eta 0:00:01\n",
      "   -------------------- ------------------- 6.0/11.6 MB 11.0 MB/s eta 0:00:01\n",
      "   ---------------------- ----------------- 6.6/11.6 MB 11.1 MB/s eta 0:00:01\n",
      "   ------------------------ --------------- 7.1/11.6 MB 11.3 MB/s eta 0:00:01\n",
      "   -------------------------- ------------- 7.7/11.6 MB 11.4 MB/s eta 0:00:01\n",
      "   ---------------------------- ----------- 8.2/11.6 MB 11.4 MB/s eta 0:00:01\n",
      "   ------------------------------ --------- 8.7/11.6 MB 11.4 MB/s eta 0:00:01\n",
      "   ------------------------------- -------- 9.3/11.6 MB 11.4 MB/s eta 0:00:01\n",
      "   --------------------------------- ------ 9.7/11.6 MB 11.5 MB/s eta 0:00:01\n",
      "   ---------------------------------- ----- 10.1/11.6 MB 11.4 MB/s eta 0:00:01\n",
      "   ------------------------------------ --- 10.7/11.6 MB 11.3 MB/s eta 0:00:01\n",
      "   -------------------------------------- - 11.1/11.6 MB 11.3 MB/s eta 0:00:01\n",
      "   ---------------------------------------  11.6/11.6 MB 11.7 MB/s eta 0:00:01\n",
      "   ---------------------------------------  11.6/11.6 MB 11.7 MB/s eta 0:00:01\n",
      "   ---------------------------------------- 11.6/11.6 MB 11.1 MB/s eta 0:00:00\n",
      "Downloading numpy-2.1.3-cp311-cp311-win_amd64.whl (12.9 MB)\n",
      "   ---------------------------------------- 0.0/12.9 MB ? eta -:--:--\n",
      "   - -------------------------------------- 0.5/12.9 MB 16.5 MB/s eta 0:00:01\n",
      "   -- ------------------------------------- 0.7/12.9 MB 15.0 MB/s eta 0:00:01\n",
      "   ---- ----------------------------------- 1.6/12.9 MB 12.5 MB/s eta 0:00:01\n",
      "   ------ --------------------------------- 2.1/12.9 MB 12.1 MB/s eta 0:00:01\n",
      "   ------- -------------------------------- 2.5/12.9 MB 12.5 MB/s eta 0:00:01\n",
      "   --------- ------------------------------ 3.0/12.9 MB 12.7 MB/s eta 0:00:01\n",
      "   ---------- ----------------------------- 3.5/12.9 MB 12.3 MB/s eta 0:00:01\n",
      "   ------------ --------------------------- 3.9/12.9 MB 12.0 MB/s eta 0:00:01\n",
      "   -------------- ------------------------- 4.5/12.9 MB 12.0 MB/s eta 0:00:01\n",
      "   --------------- ------------------------ 5.1/12.9 MB 12.0 MB/s eta 0:00:01\n",
      "   ----------------- ---------------------- 5.6/12.9 MB 12.0 MB/s eta 0:00:01\n",
      "   ------------------- -------------------- 6.1/12.9 MB 11.5 MB/s eta 0:00:01\n",
      "   -------------------- ------------------- 6.7/12.9 MB 11.9 MB/s eta 0:00:01\n",
      "   ---------------------- ----------------- 7.1/12.9 MB 11.7 MB/s eta 0:00:01\n",
      "   ------------------------ --------------- 7.8/12.9 MB 11.6 MB/s eta 0:00:01\n",
      "   ------------------------- -------------- 8.2/12.9 MB 11.4 MB/s eta 0:00:01\n",
      "   --------------------------- ------------ 8.8/12.9 MB 11.7 MB/s eta 0:00:01\n",
      "   ---------------------------- ----------- 9.2/12.9 MB 11.6 MB/s eta 0:00:01\n",
      "   ------------------------------ --------- 9.8/12.9 MB 11.8 MB/s eta 0:00:01\n",
      "   ------------------------------- -------- 10.2/12.9 MB 11.7 MB/s eta 0:00:01\n",
      "   --------------------------------- ------ 10.8/12.9 MB 11.7 MB/s eta 0:00:01\n",
      "   ----------------------------------- ---- 11.4/12.9 MB 11.7 MB/s eta 0:00:01\n",
      "   ------------------------------------ --- 11.8/12.9 MB 11.5 MB/s eta 0:00:01\n",
      "   ------------------------------------- -- 12.1/12.9 MB 11.5 MB/s eta 0:00:01\n",
      "   ---------------------------------------  12.7/12.9 MB 11.5 MB/s eta 0:00:01\n",
      "   ---------------------------------------  12.9/12.9 MB 11.3 MB/s eta 0:00:01\n",
      "   ---------------------------------------- 12.9/12.9 MB 10.7 MB/s eta 0:00:00\n",
      "Downloading pytz-2024.2-py2.py3-none-any.whl (508 kB)\n",
      "   ---------------------------------------- 0.0/508.0 kB ? eta -:--:--\n",
      "   --------------------------------------  501.8/508.0 kB 15.4 MB/s eta 0:00:01\n",
      "   --------------------------------------- 508.0/508.0 kB 15.6 MB/s eta 0:00:00\n",
      "Downloading tzdata-2024.2-py2.py3-none-any.whl (346 kB)\n",
      "   ---------------------------------------- 0.0/346.6 kB ? eta -:--:--\n",
      "   --------------------------------------  337.9/346.6 kB 20.5 MB/s eta 0:00:01\n",
      "   ---------------------------------------- 346.6/346.6 kB 7.2 MB/s eta 0:00:00\n",
      "Installing collected packages: pytz, tzdata, numpy, pandas\n",
      "Successfully installed numpy-2.1.3 pandas-2.2.3 pytz-2024.2 tzdata-2024.2\n"
     ]
    },
    {
     "name": "stderr",
     "output_type": "stream",
     "text": [
      "\n",
      "[notice] A new release of pip is available: 24.0 -> 24.3.1\n",
      "[notice] To update, run: python.exe -m pip install --upgrade pip\n"
     ]
    }
   ],
   "source": [
    "!pip install pandas"
   ]
  },
  {
   "cell_type": "code",
   "execution_count": null,
   "metadata": {},
   "outputs": [],
   "source": []
  }
 ],
 "metadata": {
  "kernelspec": {
   "display_name": "geo",
   "language": "python",
   "name": "python3"
  },
  "language_info": {
   "codemirror_mode": {
    "name": "ipython",
    "version": 3
   },
   "file_extension": ".py",
   "mimetype": "text/x-python",
   "name": "python",
   "nbconvert_exporter": "python",
   "pygments_lexer": "ipython3",
   "version": "3.11.9"
  }
 },
 "nbformat": 4,
 "nbformat_minor": 2
}
