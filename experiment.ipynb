{
 "cells": [
  {
   "cell_type": "code",
   "execution_count": 3,
   "metadata": {},
   "outputs": [
    {
     "name": "stdout",
     "output_type": "stream",
     "text": [
      "                      Betreiber                  Straße Hausnummer  \\\n",
      "0         Albwerk GmbH & Co. KG          Ennabeurer Weg          0   \n",
      "1                         smopi               Albstraße         14   \n",
      "2         Albwerk GmbH & Co. KG  Parkplatz Campingplatz          0   \n",
      "3  EnBW mobility+ AG und Co.KG              Hauptstraße        91c   \n",
      "4              SWU Energie GmbH              Sterngasse          6   \n",
      "\n",
      "  Adresszusatz  Postleitzahl          Ort         Bundesland  \\\n",
      "0          NaN       72535.0  Heroldstatt  Baden-Württemberg   \n",
      "1          NaN       72535.0  Heroldstatt  Baden-Württemberg   \n",
      "2          NaN       72589.0   Westerheim  Baden-Württemberg   \n",
      "3          NaN       73340.0    Amstetten  Baden-Württemberg   \n",
      "4          NaN       88481.0     Balzheim  Baden-Württemberg   \n",
      "\n",
      "      Kreis/kreisfreie Stadt Breitengrad Längengrad  ... Public Key1  \\\n",
      "0  Landkreis Alb-Donau-Kreis   48,442398   9,659075  ...         NaN   \n",
      "1  Landkreis Alb-Donau-Kreis   48,449353   9,672201  ...         NaN   \n",
      "2  Landkreis Alb-Donau-Kreis     48,5105      9,609  ...         NaN   \n",
      "3  Landkreis Alb-Donau-Kreis   48,578534    9,87484  ...         NaN   \n",
      "4  Landkreis Alb-Donau-Kreis   48,179959  10,076977  ...         NaN   \n",
      "\n",
      "                   Steckertypen2 P2 [kW]  Public Key2       Steckertypen3  \\\n",
      "0             AC Steckdose Typ 2      22          NaN                 NaN   \n",
      "1             AC Steckdose Typ 2      22          NaN  AC Steckdose Typ 2   \n",
      "2             AC Steckdose Typ 2      22          NaN                 NaN   \n",
      "3  DC Kupplung Combo, DC CHAdeMO      50          NaN                 NaN   \n",
      "4                            NaN     NaN          NaN                 NaN   \n",
      "\n",
      "  P3 [kW] Public Key3       Steckertypen4 P4 [kW] Public Key4  \n",
      "0     NaN         NaN                 NaN     NaN         NaN  \n",
      "1      22         NaN  AC Steckdose Typ 2      22         NaN  \n",
      "2     NaN         NaN                 NaN     NaN         NaN  \n",
      "3     NaN         NaN                 NaN     NaN         NaN  \n",
      "4     NaN         NaN                 NaN     NaN         NaN  \n",
      "\n",
      "[5 rows x 26 columns]\n"
     ]
    },
    {
     "name": "stderr",
     "output_type": "stream",
     "text": [
      "C:\\Users\\aka87578\\AppData\\Local\\Temp\\ipykernel_29552\\1238312989.py:8: DtypeWarning: Columns (21,24) have mixed types. Specify dtype option on import or set low_memory=False.\n",
      "  df = pd.read_csv(file_path, delimiter=';', skiprows=10)\n"
     ]
    }
   ],
   "source": [
    "import pandas as pd\n",
    "\n",
    "\n",
    "\n",
    "file_path = r\"D:\\bht_adv\\vehhicle-charging-station-mapping-germany\\datasets\\Ladesaeulenregister.csv\"\n",
    "\n",
    "# Read the CSV file, skipping rows before the actual header\n",
    "df = pd.read_csv(file_path, delimiter=';', skiprows=10)\n",
    "\n",
    "# Display the dataframe\n",
    "print(df.head())"
   ]
  },
  {
   "cell_type": "code",
   "execution_count": null,
   "metadata": {},
   "outputs": [],
   "source": []
  },
  {
   "cell_type": "code",
   "execution_count": null,
   "metadata": {},
   "outputs": [],
   "source": []
  }
 ],
 "metadata": {
  "kernelspec": {
   "display_name": "geo",
   "language": "python",
   "name": "python3"
  },
  "language_info": {
   "codemirror_mode": {
    "name": "ipython",
    "version": 3
   },
   "file_extension": ".py",
   "mimetype": "text/x-python",
   "name": "python",
   "nbconvert_exporter": "python",
   "pygments_lexer": "ipython3",
   "version": "3.12.4"
  }
 },
 "nbformat": 4,
 "nbformat_minor": 2
}
